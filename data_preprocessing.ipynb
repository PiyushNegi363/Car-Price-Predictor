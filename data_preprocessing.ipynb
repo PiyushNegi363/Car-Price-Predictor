{
 "cells": [
  {
   "cell_type": "code",
   "execution_count": 13,
   "id": "79f5b1e7",
   "metadata": {},
   "outputs": [
    {
     "name": "stdout",
     "output_type": "stream",
     "text": [
      "     Name   Age  Salary       City\n",
      "0   Pawan  23.0  1000.0      Delhi\n",
      "1   lalit  55.0  2000.0     Mumbai\n",
      "2   Kapil   NaN     NaN  Bangalore\n",
      "3    Ravi  45.0  4000.0    Chennai\n",
      "4  Suresh   NaN     NaN    Kolkata\n"
     ]
    }
   ],
   "source": [
    "import pandas as pd\n",
    "\n",
    "data = {\n",
    "    \"Name\" : [\"Pawan\",\"lalit\",\"Kapil\",\"Ravi\",\"Suresh\"],\n",
    "    \"Age\" : [23,55,None,45,None],\n",
    "    \"Salary\" : [1000,2000,None,4000,None],\n",
    "    \"City\" : [\"Delhi\",\"Mumbai\",\"Bangalore\",\"Chennai\",\"Kolkata\"],\n",
    "}\n",
    "\n",
    "df = pd.DataFrame(data)\n",
    "print(df.head())\n",
    "\n"
   ]
  },
  {
   "cell_type": "code",
   "execution_count": 14,
   "id": "0b3921ff",
   "metadata": {},
   "outputs": [
    {
     "name": "stdout",
     "output_type": "stream",
     "text": [
      "Name      0\n",
      "Age       2\n",
      "Salary    2\n",
      "City      0\n",
      "dtype: int64\n"
     ]
    }
   ],
   "source": [
    "# fill all the null values in the dataframe \n",
    "print(df.isnull().sum())\n"
   ]
  },
  {
   "cell_type": "code",
   "execution_count": 11,
   "id": "87b0c24e",
   "metadata": {},
   "outputs": [],
   "source": [
    "## drop the missing values columns and rows\n",
    "# drop_df = df.dropna()\n",
    "# print(drop_df)\n",
    "\n",
    "# print(df)"
   ]
  },
  {
   "cell_type": "code",
   "execution_count": 15,
   "id": "685a27bb",
   "metadata": {},
   "outputs": [
    {
     "name": "stdout",
     "output_type": "stream",
     "text": [
      "     Name   Age       Salary       City\n",
      "0   Pawan  23.0  1000.000000      Delhi\n",
      "1   lalit  55.0  2000.000000     Mumbai\n",
      "2   Kapil  41.0  2333.333333  Bangalore\n",
      "3    Ravi  45.0  4000.000000    Chennai\n",
      "4  Suresh  41.0  2333.333333    Kolkata\n"
     ]
    }
   ],
   "source": [
    "## fill the missing values with mean\n",
    "df[\"Age\"] =df[\"Age\"].fillna(df[\"Age\"].mean())\n",
    "df[\"Salary\"] = df[\"Salary\"].fillna(df[\"Salary\"].mean())\n",
    "print(df)"
   ]
  },
  {
   "cell_type": "code",
   "execution_count": null,
   "id": "1054e1d2",
   "metadata": {},
   "outputs": [
    {
     "name": "stdout",
     "output_type": "stream",
     "text": [
      "      Name  Gender       city  Passed  Age\n",
      "0     Aman    male      Delhi    True   23\n",
      "1     Ravi    male     Mumbai   False   55\n",
      "2   Suresh    male  Bangalore    True   45\n",
      "3    Pawan    male    Chennai   False   34\n",
      "4    Kapil    male    Kolkata    True   23\n",
      "5    Arjun    male      Delhi    True   25\n",
      "6    Rohit    male     Mumbai   False   30\n",
      "7    Meera  female  Bangalore    True   28\n",
      "8    Pooja  female    Chennai   False   22\n",
      "9    Divya  female    Kolkata    True   26\n",
      "10    Neha  female      Delhi   False   29\n"
     ]
    }
   ],
   "source": [
    "## encoding categorical data to numerical data \n",
    "\n",
    "from sklearn.preprocessing import LabelEncoder\n",
    "import pandas as pd\n",
    "\n",
    "data = {\n",
    "    \"Name\" :  [\"Aman\",\"Ravi\",\"Suresh\",\"Pawan\",\"Kapil\",\"Arjun\",\"Rohit\",\"Meera\",\"Pooja\",\"Divya\",\"Neha\"],\n",
    "    \"Gender\" : [\"male\",\"male\",\"male\",\"male\",\"male\",\"male\",\"male\",\"female\",\"female\",\"female\",\"female\"],\n",
    "    \"city\" : [\"Delhi\",\"Mumbai\",\"Bangalore\",\"Chennai\",\"Kolkata\",\"Delhi\",\"Mumbai\",\"Bangalore\",\"Chennai\",\"Kolkata\",\"Delhi\"],\n",
    "    \"Passed\": [True,False,True,False,True,True,False,True,False,True,False],\n",
    "    \"Age\": [23,55,45,34,23,25,30, 28,22,26,29],\n",
    "}\n",
    "\n",
    "df = pd.DataFrame(data)\n",
    "print(df)"
   ]
  },
  {
   "cell_type": "code",
   "execution_count": 39,
   "id": "7db3e6d4",
   "metadata": {},
   "outputs": [
    {
     "name": "stdout",
     "output_type": "stream",
     "text": [
      "\n",
      " One-Hot Encoded data : \n",
      "      Name  Gender  Passed  Age  city_Bangalore  city_Chennai  city_Delhi  \\\n",
      "0     Aman    male    True   23           False         False        True   \n",
      "1     Ravi    male   False   55           False         False       False   \n",
      "2   Suresh    male    True   45            True         False       False   \n",
      "3    Pawan    male   False   34           False          True       False   \n",
      "4    Kapil    male    True   23           False         False       False   \n",
      "5    Arjun    male    True   25           False         False        True   \n",
      "6    Rohit    male   False   30           False         False       False   \n",
      "7    Meera  female    True   28            True         False       False   \n",
      "8    Pooja  female   False   22           False          True       False   \n",
      "9    Divya  female    True   26           False         False       False   \n",
      "10    Neha  female   False   29           False         False        True   \n",
      "\n",
      "    city_Kolkata  city_Mumbai  \n",
      "0          False        False  \n",
      "1          False         True  \n",
      "2          False        False  \n",
      "3          False        False  \n",
      "4           True        False  \n",
      "5          False        False  \n",
      "6          False         True  \n",
      "7          False        False  \n",
      "8          False        False  \n",
      "9           True        False  \n",
      "10         False        False  \n"
     ]
    }
   ],
   "source": [
    "## using label encoding to convert categorical data into numerical data so that it can be used in machine learning models\n",
    "\n",
    "df_label = df.copy()\n",
    "le = LabelEncoder()\n",
    "# df_label[\"Gender_encoded\"] = le.fit_transform(df_label[\"Gender\"])\n",
    "# df_label[\"Passed_encoded\"] = le.fit_transform(df_label[\"Passed\"])\n",
    "# df_label[\"city_encoded\"] = le.fit_transform(df_label[\"city\"])\n",
    "\n",
    "# print(\"\\n Label Encoded data : \")\n",
    "# print(df_label[['Name','Gender','Gender_encoded','Passed','Passed_encoded','city','city_encoded']])\n",
    "\n",
    "## using one-hot encoding to convert categorical data into numerical data so that it can be used in machine learning models\n",
    "df_encoded = pd.get_dummies(df_label,columns=[\"city\"])\n",
    "print(\"\\n One-Hot Encoded data : \")\n",
    "print(df_encoded)"
   ]
  },
  {
   "cell_type": "code",
   "execution_count": null,
   "id": "38597fed",
   "metadata": {},
   "outputs": [
    {
     "name": "stdout",
     "output_type": "stream",
     "text": [
      "\n",
      "Training set:\n",
      "    studyHours\n",
      "10          55\n",
      "2           15\n",
      "1           10\n",
      "8           45\n",
      "4           25\n",
      "7           40\n",
      "3           20\n",
      "6           35     testScores\n",
      "10         150\n",
      "2           70\n",
      "1           60\n",
      "8          130\n",
      "4           90\n",
      "7          120\n",
      "3           80\n",
      "6          110\n",
      "\n",
      "Testing set:\n",
      "   studyHours\n",
      "5          30\n",
      "0           5\n",
      "9          50    testScores\n",
      "5         100\n",
      "0          50\n",
      "9         140\n"
     ]
    }
   ],
   "source": [
    "## feature scaling using standard scaler\n",
    "from sklearn.preprocessing import StandardScaler, MinMaxScaler\n",
    "## split the data into training and testing sets\n",
    "from sklearn.model_selection import train_test_split\n",
    "import pandas as pd\n",
    "\n",
    "data = {\n",
    "    \"Name\" : [\"Aman\",\"Ravi\",\"Suresh\",\"Pawan\",\"Kapil\",\"Arjun\",\"Rohit\",\"Meera\",\"Pooja\",\"Divya\",\"Neha\"],\n",
    "    \"studyHours\" : [5,10,15,20,25,30,35,40,45,50,55],\n",
    "    \"testScores\" : [50,60,70,80,90,100,110,120,130,140,150]\n",
    "}\n",
    "\n",
    "df = pd.DataFrame(data)\n",
    "\n",
    "scaler = StandardScaler()\n",
    "X_scaled = scaler.fit_transform(df[[\"studyHours\", \"testScores\"]])\n",
    "# print(\"Standard Scaled data : \")\n",
    "# print(pd.DataFrame(X_scaled, columns=[\"studyHours\", \"testScores\"]))\n",
    "\n",
    "minmax_scaler = MinMaxScaler()\n",
    "x_scaler = minmax_scaler.fit_transform(df[[\"studyHours\", \"testScores\"]])\n",
    "# print(\"\\nMin-Max Scaled data : \")\n",
    "# print(pd.DataFrame(x_scaler, columns=[\"studyHours\", \"testScores\"]))\n",
    "\n",
    "x = df[['studyHours']]\n",
    "y = df[['testScores']]\n",
    "\n",
    "x_train, x_test, y_train, y_test = train_test_split(x,y,test_size=0.2,random_state=42)\n",
    "print(\"\\nTraining set:\")\n",
    "print(x_train)\n",
    "print(\"\\nTesting set:\")\n",
    "print(x_test)"
   ]
  },
  {
   "cell_type": "code",
   "execution_count": null,
   "id": "ecf12730",
   "metadata": {},
   "outputs": [],
   "source": [
    "\n"
   ]
  }
 ],
 "metadata": {
  "kernelspec": {
   "display_name": "Python 3",
   "language": "python",
   "name": "python3"
  },
  "language_info": {
   "codemirror_mode": {
    "name": "ipython",
    "version": 3
   },
   "file_extension": ".py",
   "mimetype": "text/x-python",
   "name": "python",
   "nbconvert_exporter": "python",
   "pygments_lexer": "ipython3",
   "version": "3.13.5"
  }
 },
 "nbformat": 4,
 "nbformat_minor": 5
}
